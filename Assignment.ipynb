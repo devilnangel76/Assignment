{
 "cells": [
  {
   "cell_type": "markdown",
   "id": "035ce1a1-477e-4e76-9a56-67e2b4292ab6",
   "metadata": {},
   "source": [
    "# Data Science Tools and Ecosystem"
   ]
  },
  {
   "cell_type": "markdown",
   "id": "8516d9c5-8a89-4645-b87d-2c8f7eb98621",
   "metadata": {},
   "source": [
    "In this notebook, Data Science Tools and Ecosystem are summarized."
   ]
  },
  {
   "cell_type": "markdown",
   "id": "199cc716-c5ed-4760-ba96-1fd46c9131eb",
   "metadata": {},
   "source": [
    "Some of the popular languages that Data Scientists use are:\n",
    "1. Julia\n",
    "2. Python\n",
    "3. R"
   ]
  },
  {
   "cell_type": "markdown",
   "id": "76cda88d-5c79-4add-95cf-128137baf37d",
   "metadata": {},
   "source": [
    "Some of the commonly used libraries used by Data Scientists include:\n",
    "1. Pandas\n",
    "2. Matplotlib\n",
    "3. Keras"
   ]
  },
  {
   "cell_type": "markdown",
   "id": "5e6d5da4-e27e-48c2-ac89-751416fb8e0d",
   "metadata": {},
   "source": [
    "|**Data Science Tools**|\n",
    "|------------------|\n",
    "|VS Code|\n",
    "|Gitlab|\n",
    "|JupytherLab|"
   ]
  },
  {
   "cell_type": "markdown",
   "id": "04c667ed-a130-465c-97a9-23441a6a5282",
   "metadata": {},
   "source": [
    "### Below are a few examples of evaluating arithmetic expressions in Python"
   ]
  },
  {
   "cell_type": "code",
   "execution_count": 1,
   "id": "dc3616b6-d3a2-4680-807f-ebb105c61fa1",
   "metadata": {},
   "outputs": [
    {
     "data": {
      "text/plain": [
       "17"
      ]
     },
     "execution_count": 1,
     "metadata": {},
     "output_type": "execute_result"
    }
   ],
   "source": [
    "#This a simple arithmetic expression to mutiply then add integers\n",
    "(3*4)+5"
   ]
  },
  {
   "cell_type": "code",
   "execution_count": 2,
   "id": "fb21720c-017e-4b17-ab3b-8e796b2c28c1",
   "metadata": {},
   "outputs": [
    {
     "data": {
      "text/plain": [
       "3.3333333333333335"
      ]
     },
     "execution_count": 2,
     "metadata": {},
     "output_type": "execute_result"
    }
   ],
   "source": [
    "#This will convert 200 minutes to hours by dividing by 60\n",
    "200/60"
   ]
  },
  {
   "cell_type": "markdown",
   "id": "7be2a195-7ebc-40b5-bad7-047f8fa52664",
   "metadata": {},
   "source": [
    "**Objectives:**\n",
    "- List Popular languages for Data Science\n",
    "- List Commonly used libraries \n",
    "- List Data Science Tools"
   ]
  },
  {
   "cell_type": "markdown",
   "id": "d4947d98-c9b2-4c11-8ca6-bd5d8c380dc6",
   "metadata": {},
   "source": [
    "## Author\n",
    "Wong Meng Fui"
   ]
  },
  {
   "cell_type": "code",
   "execution_count": null,
   "id": "e1c30bf6-c9b0-4575-9496-1a8c73f322e6",
   "metadata": {},
   "outputs": [],
   "source": []
  }
 ],
 "metadata": {
  "kernelspec": {
   "display_name": "Python 3 (ipykernel)",
   "language": "python",
   "name": "python3"
  },
  "language_info": {
   "codemirror_mode": {
    "name": "ipython",
    "version": 3
   },
   "file_extension": ".py",
   "mimetype": "text/x-python",
   "name": "python",
   "nbconvert_exporter": "python",
   "pygments_lexer": "ipython3",
   "version": "3.10.9"
  }
 },
 "nbformat": 4,
 "nbformat_minor": 5
}
